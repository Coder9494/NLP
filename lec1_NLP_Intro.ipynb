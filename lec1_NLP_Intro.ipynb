{
  "nbformat": 4,
  "nbformat_minor": 0,
  "metadata": {
    "colab": {
      "provenance": [],
      "authorship_tag": "ABX9TyNXj0vSJ9RPSEw9NY8v8mbK",
      "include_colab_link": true
    },
    "kernelspec": {
      "name": "python3",
      "display_name": "Python 3"
    },
    "language_info": {
      "name": "python"
    }
  },
  "cells": [
    {
      "cell_type": "markdown",
      "metadata": {
        "id": "view-in-github",
        "colab_type": "text"
      },
      "source": [
        "<a href=\"https://colab.research.google.com/github/Coder9494/NLP/blob/main/lec1_NLP_Intro.ipynb\" target=\"_parent\"><img src=\"https://colab.research.google.com/assets/colab-badge.svg\" alt=\"Open In Colab\"/></a>"
      ]
    },
    {
      "cell_type": "markdown",
      "source": [
        "https://www.youtube.com/watch?v=zlUpTlaxAKI&list=PLKnIA16_RmvZo7fp5kkIth6nRTeQQsjfX"
      ],
      "metadata": {
        "id": "OuCOy5pKmzvi"
      }
    },
    {
      "cell_type": "markdown",
      "source": [
        "NLP is a subfield of linguistics, computer science and artificial intelligence concerned with the interactions between computers and human language, in particular how to program computers to process and analyse large amounts of natural language data."
      ],
      "metadata": {
        "id": "ez08CrpB1Nlj"
      }
    },
    {
      "cell_type": "markdown",
      "source": [
        "## Real World Application of NLP\n",
        "\n",
        "1. Contextual Advertisements (Facebook, instagram)\n",
        "2. Email Clients - spam filtering, smart reply\n",
        "3. Social Media - removing adult content, opinion mining\n",
        "4. Search Engines\n",
        "5. Chatbots"
      ],
      "metadata": {
        "id": "_J52fzJTo7BT"
      }
    },
    {
      "cell_type": "markdown",
      "source": [
        "## Common NLP Tasks\n",
        "1.  Text/ Documentation classification\n",
        "2.  Sentiment Analysis\n",
        "3.  Information Retrieval (ex: search engines)\n",
        "4.  Parts of Speech tagging (used in Text Preprocessing, Ex: Chatbot)\n",
        "5.  Language detection and Machine Translation\n",
        "6.  Conversational Agent (Text based and speech based)\n",
        "7.  Knowledge Graph and QA Systems\n",
        "8.  Text Summarization (Inshorts news application)\n",
        "9.  Topic Modeling (LDA)\n",
        "10. Text Generation \n",
        "11. Text Parsing\n",
        "12. Speech to text (conversational agents like Siri, Alexa)"
      ],
      "metadata": {
        "id": "3KpWcQtYulmZ"
      }
    },
    {
      "cell_type": "markdown",
      "source": [
        "## Approaches in NLP\n",
        "\n",
        "1. **Heuristic Approach** - Heuristic, or heuristic technique, is any approach to problem solving or self-discovery that employs a practical method that is not guaranteed to be optimal, perfect, or rational, but is nevertheless sufficient for reaching an immediate, short-term goal or approximation. Ex: Regular Expressions, WordNet (Lexical Dctionary), Open Mind Common Sense\n",
        "\n",
        "Advantages:\n",
        "- Very fast\n",
        "- More accurate\n",
        "\n",
        "----------------------------------------------------------------\n",
        "\n",
        "2. **Machine Learning Approach** \n",
        "\n",
        "Algorithm Used\n",
        "- Naive Bayes\n",
        "- Logistic Regression\n",
        "- SVM\n",
        "- LDA (Topic Modeling)\n",
        "- Hidden Markov Models\n",
        "\n",
        "-------------------------------------------------------------------\n",
        "\n",
        "3. **Deep Learning Approach**\n",
        "- In ML, we convert Textual data into numbers where the sequential information is lost. Whereas DL retains this sequential information.\n",
        "- Also, feature generation is done automatically\n",
        "\n",
        "Architectures\n",
        "- RNN\n",
        "- LSTM (Long Term Short Memory)\n",
        "- GRU/CNN (used for text generation)\n",
        "- Transformers (BERT model)\n",
        "- Autoencoders (set of neural networks based on LSTM)"
      ],
      "metadata": {
        "id": "xX5gGjG3wfLL"
      }
    },
    {
      "cell_type": "markdown",
      "source": [
        "## Challenges in NLP\n",
        "1. Ambiguity in sentences\n",
        "2. Contexual Words (same word having different meaning in different contexts)\n",
        "3. Colloquialisms and slang\n",
        "4. Synonyms\n",
        "5. Irony, Sarcasm and tonal difference\n",
        "6. Spelling Errors\n",
        "7. Creativity (Poems, Dialogue, Scripts)\n",
        "8. Diversity in languages"
      ],
      "metadata": {
        "id": "jA0Ni1ZgzUVD"
      }
    },
    {
      "cell_type": "code",
      "source": [],
      "metadata": {
        "id": "7ucKDaB5o6VH"
      },
      "execution_count": null,
      "outputs": []
    }
  ]
}